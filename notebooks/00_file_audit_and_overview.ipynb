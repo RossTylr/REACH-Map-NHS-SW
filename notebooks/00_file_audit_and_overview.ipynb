{
 "cells": [
  {
   "cell_type": "code",
   "execution_count": null,
   "id": "62f2f69c",
   "metadata": {
    "vscode": {
     "languageId": "plaintext"
    }
   },
   "outputs": [],
   "source": []
  },
  {
   "cell_type": "code",
   "execution_count": null,
   "id": "2781d222",
   "metadata": {},
   "outputs": [],
   "source": [
    "# ------------------------------------------------------------------\n",
    "# Step 0 – Purpose\n",
    "# ------------------------------------------------------------------\n",
    "# Inspect all files in a given folder to:\n",
    "# - Identify file types\n",
    "# - Attempt to load them with pandas\n",
    "# - Print file name, shape, column names, and header preview"
   ]
  },
  {
   "cell_type": "code",
   "execution_count": null,
   "id": "f8e6701f",
   "metadata": {},
   "outputs": [],
   "source": [
    "# ------------------------------------------------------------------\n",
    "# Step 1 – Imports\n",
    "# ------------------------------------------------------------------\n",
    "import os\n",
    "import pandas as pd\n",
    "import geopandas as gpd\n",
    "import fiona"
   ]
  },
  {
   "cell_type": "code",
   "execution_count": null,
   "id": "6dcfb55c",
   "metadata": {},
   "outputs": [],
   "source": [
    "# ------------------------------------------------------------------\n",
    "# Step 1 – Define Root Data Directory\n",
    "# ------------------------------------------------------------------\n",
    "data_dir = \"/Users/rosstaylor/Downloads/Code Repositories/REACH Map (NHS SW)/GitHub Repo/REACH-Map-NHS-SW/data/raw\"\n"
   ]
  },
  {
   "cell_type": "code",
   "execution_count": 16,
   "id": "278321cc",
   "metadata": {},
   "outputs": [],
   "source": [
    "# ------------------------------------------------------------------\n",
    "# Step 2 – Inspection Function (Handles .csv, .xlsx, .parquet, .shp, .gpkg)\n",
    "# ------------------------------------------------------------------\n",
    "def inspect_file(filepath):\n",
    "    filetype = os.path.splitext(filepath)[-1].lower()\n",
    "    try:\n",
    "        if filetype == '.csv':\n",
    "            df = pd.read_csv(filepath, nrows=5)\n",
    "        elif filetype in ['.xlsx', '.xls']:\n",
    "            df = pd.read_excel(filepath, nrows=5)\n",
    "        elif filetype == '.parquet':\n",
    "            df = pd.read_parquet(filepath)\n",
    "        elif filetype == '.shp':\n",
    "            df = gpd.read_file(filepath)\n",
    "        elif filetype == '.gpkg':\n",
    "            layers = fiona.listlayers(filepath)\n",
    "            df = gpd.read_file(filepath, layer=layers[0])\n",
    "        else:\n",
    "            return None, None, f\"Unsupported type: {filetype}\"\n",
    "        return list(df.columns), df.shape[1], None\n",
    "    except Exception as e:\n",
    "        return None, None, str(e)"
   ]
  },
  {
   "cell_type": "code",
   "execution_count": 17,
   "id": "96906a33",
   "metadata": {},
   "outputs": [],
   "source": [
    "# ------------------------------------------------------------------\n",
    "# Step 3 – Recursively Scan and Summarise Files\n",
    "# ------------------------------------------------------------------\n",
    "summary = []\n",
    "\n",
    "for root, dirs, files in os.walk(data_dir):\n",
    "    for filename in files:\n",
    "        filepath = os.path.join(root, filename)\n",
    "        filetype = os.path.splitext(filename)[-1].lower()\n",
    "\n",
    "        if filetype in [\".csv\", \".xlsx\", \".xls\", \".parquet\", \".shp\", \".gpkg\"]:\n",
    "            columns, n_columns, error = inspect_file(filepath)\n",
    "            file_info = {\n",
    "                \"relative_path\": os.path.relpath(filepath, data_dir),\n",
    "                \"filename\": filename,\n",
    "                \"filetype\": filetype,\n",
    "                \"size_MB\": round(os.path.getsize(filepath) / (1024 * 1024), 2),\n",
    "                \"n_columns\": n_columns,\n",
    "                \"columns\": columns,\n",
    "                \"error\": error\n",
    "            }\n",
    "            summary.append(file_info)\n"
   ]
  },
  {
   "cell_type": "code",
   "execution_count": null,
   "id": "1cd98da5-15c4-47e3-832b-39d11f703aa7",
   "metadata": {},
   "outputs": [],
   "source": []
  }
 ],
 "metadata": {
  "kernelspec": {
   "display_name": "Python 3 (ipykernel)",
   "language": "python",
   "name": "python3"
  },
  "language_info": {
   "codemirror_mode": {
    "name": "ipython",
    "version": 3
   },
   "file_extension": ".py",
   "mimetype": "text/x-python",
   "name": "python",
   "nbconvert_exporter": "python",
   "pygments_lexer": "ipython3",
   "version": "3.10.18"
  }
 },
 "nbformat": 4,
 "nbformat_minor": 5
}
